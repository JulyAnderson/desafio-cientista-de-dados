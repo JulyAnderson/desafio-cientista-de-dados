{
 "cells": [
  {
   "cell_type": "code",
   "execution_count": 17,
   "metadata": {},
   "outputs": [],
   "source": [
    "import pandas as pd \n",
    "import chardet as cd  # ferramenta para detecção de codificaçã"
   ]
  },
  {
   "cell_type": "code",
   "execution_count": 19,
   "metadata": {},
   "outputs": [],
   "source": [
    "def detectar_codificacao(arquivo):\n",
    "    #Busca a codificação do arquivo\n",
    "    with open (arquivo, 'rb') as arq:\n",
    "        codificado_com = cd.detect(arq.read())\n",
    "\n",
    "    tipo_codificado = str(codificado_com['encoding']).strip()\n",
    "    return tipo_codificado"
   ]
  },
  {
   "cell_type": "code",
   "execution_count": 22,
   "metadata": {},
   "outputs": [
    {
     "data": {
      "text/plain": [
       "(25699, 18)"
      ]
     },
     "execution_count": 22,
     "metadata": {},
     "output_type": "execute_result"
    }
   ],
   "source": [
    "diretorio = 'dataset/'\n",
    "arquivo = 'base_treinamento_testes.pkl'\n",
    "pkl = diretorio+arquivo\n",
    "\n",
    "dados = pd.read_pickle(pkl)\n",
    "dados.shape"
   ]
  },
  {
   "cell_type": "code",
   "execution_count": 23,
   "metadata": {},
   "outputs": [
    {
     "name": "stdout",
     "output_type": "stream",
     "text": [
      "<class 'pandas.core.frame.DataFrame'>\n",
      "Index: 25699 entries, 4146 to 52277\n",
      "Data columns (total 18 columns):\n",
      " #   Column                            Non-Null Count  Dtype  \n",
      "---  ------                            --------------  -----  \n",
      " 0   codigo_vaga                       25699 non-null  int64  \n",
      " 1   ultimo_salario_candidato          25699 non-null  float64\n",
      " 2   ultimo_cargo_candidato            25699 non-null  object \n",
      " 3   area_interesse_candidato          21879 non-null  object \n",
      " 4   nivel_candidato                   25100 non-null  object \n",
      " 5   formacao_candidato                25699 non-null  object \n",
      " 6   cidade_candidato                  25693 non-null  object \n",
      " 7   nivel_ingles_candidato            25699 non-null  float64\n",
      " 8   nivel_espanhol_candidato          25699 non-null  float64\n",
      " 9   mediana_teste_ingles_candidato    25699 non-null  float64\n",
      " 10  mediana_teste_espanhol_candidato  25699 non-null  float64\n",
      " 11  mediana_teste_logica_candidato    25699 non-null  float64\n",
      " 12  mediana_teste_outros_candidato    25699 non-null  float64\n",
      " 13  cargo_vaga                        22492 non-null  object \n",
      " 14  nivel_vaga                        25699 non-null  object \n",
      " 15  formacao_vaga                     25699 non-null  object \n",
      " 16  cidade_vaga                       8558 non-null   object \n",
      " 17  aprovado_vaga                     25699 non-null  int64  \n",
      "dtypes: float64(7), int64(2), object(9)\n",
      "memory usage: 3.7+ MB\n"
     ]
    }
   ],
   "source": [
    "dados.info()"
   ]
  },
  {
   "cell_type": "code",
   "execution_count": 25,
   "metadata": {},
   "outputs": [
    {
     "data": {
      "text/plain": [
       "codigo_vaga                             0\n",
       "ultimo_salario_candidato                0\n",
       "ultimo_cargo_candidato                  0\n",
       "area_interesse_candidato             3820\n",
       "nivel_candidato                       599\n",
       "formacao_candidato                      0\n",
       "cidade_candidato                        6\n",
       "nivel_ingles_candidato                  0\n",
       "nivel_espanhol_candidato                0\n",
       "mediana_teste_ingles_candidato          0\n",
       "mediana_teste_espanhol_candidato        0\n",
       "mediana_teste_logica_candidato          0\n",
       "mediana_teste_outros_candidato          0\n",
       "cargo_vaga                           3207\n",
       "nivel_vaga                              0\n",
       "formacao_vaga                           0\n",
       "cidade_vaga                         17141\n",
       "aprovado_vaga                           0\n",
       "dtype: int64"
      ]
     },
     "execution_count": 25,
     "metadata": {},
     "output_type": "execute_result"
    }
   ],
   "source": [
    "dados.isnull().sum()"
   ]
  },
  {
   "cell_type": "code",
   "execution_count": null,
   "metadata": {},
   "outputs": [],
   "source": []
  }
 ],
 "metadata": {
  "kernelspec": {
   "display_name": "Python 3 (ipykernel)",
   "language": "python",
   "name": "python3"
  },
  "language_info": {
   "codemirror_mode": {
    "name": "ipython",
    "version": 3
   },
   "file_extension": ".py",
   "mimetype": "text/x-python",
   "name": "python",
   "nbconvert_exporter": "python",
   "pygments_lexer": "ipython3",
   "version": "3.8.10"
  }
 },
 "nbformat": 4,
 "nbformat_minor": 2
}
